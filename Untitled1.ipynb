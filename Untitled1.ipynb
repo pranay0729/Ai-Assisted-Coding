{
  "nbformat": 4,
  "nbformat_minor": 0,
  "metadata": {
    "colab": {
      "provenance": [],
      "authorship_tag": "ABX9TyNJ/CzLsqhmO5FZAFv6B+eh",
      "include_colab_link": true
    },
    "kernelspec": {
      "name": "python3",
      "display_name": "Python 3"
    },
    "language_info": {
      "name": "python"
    }
  },
  "cells": [
    {
      "cell_type": "markdown",
      "metadata": {
        "id": "view-in-github",
        "colab_type": "text"
      },
      "source": [
        "<a href=\"https://colab.research.google.com/github/pranay0729/Ai-Assisted-Coding/blob/main/Untitled1.ipynb\" target=\"_parent\"><img src=\"https://colab.research.google.com/assets/colab-badge.svg\" alt=\"Open In Colab\"/></a>"
      ]
    },
    {
      "cell_type": "code",
      "execution_count": 5,
      "metadata": {
        "colab": {
          "base_uri": "https://localhost:8080/"
        },
        "collapsed": true,
        "id": "K8kbC3q6rjAk",
        "outputId": "4a8dde4d-40f1-4501-8b90-27309ce75358"
      },
      "outputs": [
        {
          "output_type": "stream",
          "name": "stdout",
          "text": [
            "False\n",
            "False\n"
          ]
        }
      ],
      "source": [
        "def is_even(number):\n",
        "  \"\"\"Checks if a number is even.\"\"\"\n",
        "  return number % 2 == 0\n",
        "\n",
        "# Example usage:\n",
        "print(is_even(9))\n",
        "print(is_even(7))"
      ]
    }
  ]
}