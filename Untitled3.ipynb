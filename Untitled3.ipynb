{
  "nbformat": 4,
  "nbformat_minor": 0,
  "metadata": {
    "colab": {
      "provenance": [],
      "authorship_tag": "ABX9TyMzT6KZb8H2woHBzTzlQ8vj",
      "include_colab_link": true
    },
    "kernelspec": {
      "name": "python3",
      "display_name": "Python 3"
    },
    "language_info": {
      "name": "python"
    }
  },
  "cells": [
    {
      "cell_type": "markdown",
      "metadata": {
        "id": "view-in-github",
        "colab_type": "text"
      },
      "source": [
        "<a href=\"https://colab.research.google.com/github/pranay0729/Ai-Assisted-Coding/blob/main/Untitled3.ipynb\" target=\"_parent\"><img src=\"https://colab.research.google.com/assets/colab-badge.svg\" alt=\"Open In Colab\"/></a>"
      ]
    },
    {
      "cell_type": "markdown",
      "source": [
        "task0; write a python programm wheather check prime or not"
      ],
      "metadata": {
        "id": "-1Gsoigk5gBu"
      }
    },
    {
      "cell_type": "code",
      "source": [
        "def is_prime(number):\n",
        "  \"\"\"Checks if a given number is prime.\"\"\"\n",
        "  if number <= 1:\n",
        "    return False  # Numbers less than or equal to 1 are not prime\n",
        "  for i in range(2, int(number**0.5) + 1):\n",
        "    if number % i == 0:\n",
        "      return False  # If divisible by any number from 2 to sqrt(number), it's not prime\n",
        "  return True  # Otherwise, it's prime\n",
        "\n",
        "# Get input from the user\n",
        "num = int(input(\"Enter a number: \"))\n",
        "\n",
        "# Check if the number is prime and print the result\n",
        "if is_prime(num):\n",
        "  print(f\"{num} is a prime number\")\n",
        "else:\n",
        "  print(f\"{num} is not a prime number\")"
      ],
      "metadata": {
        "id": "zNEl8UmQ5tb8"
      },
      "execution_count": null,
      "outputs": []
    },
    {
      "cell_type": "markdown",
      "source": [
        "This code defines a function is_prime(number) that determines if a given number is a prime number.\n",
        "\n",
        "Here's a breakdown:\n",
        "\n",
        "def is_prime(number):: This line defines a function named is_prime that takes one argument, number.\n",
        "\"\"\"Checks if a given number is prime.\"\"\": This is a docstring, explaining what the function does.\n",
        "if number <= 1:: This checks if the input number is less than or equal to 1. Prime numbers are defined as being greater than 1, so if this condition is true, the function immediately returns False.\n",
        "`for i in range(2, int(number0.5) + 1):**: This starts aforloop. It iterates through numbers starting from 2 up to the integer part of the square root of the inputnumber`. We only need to check for divisors up to the square root because if a number has a divisor greater than its square root, it must also have a divisor less than its square root.\n",
        "if number % i == 0:: Inside the loop, this condition checks if the input number is perfectly divisible by the current number i from the loop.\n",
        "return False # If divisible by any number from 2 to sqrt(number), it's not prime: If the number is divisible by i, it means it has a factor other than 1 and itself, so it's not prime, and the function returns False.\n",
        "return True # Otherwise, it's prime: If the loop finishes without finding any divisors (i.e., the if number % i == 0: condition was never true), it means the number is only divisible by 1 and itself, so it is prime, and the function returns True.\n",
        "The lines outside the function:\n",
        "\n",
        "num = int(input(\"Enter a number: \")): This line prompts the user to enter a number and converts the input (which is initially a string) into an integer, storing it in the variable num.\n",
        "if is_prime(num):: This calls the is_prime function with the user's input num. If the function returns True (meaning the number is prime)...\n",
        "print(f\"{num} is a prime number\"): ...this line prints a message indicating that the number is prime.\n",
        "else:: If the is_prime(num) call returns False (meaning the number is not prime)...\n",
        "print(f\"{num} is not a prime number\"): ...this line prints a message indicating that the number is not prime."
      ],
      "metadata": {
        "id": "Fz2yGFmy6VK9"
      }
    },
    {
      "cell_type": "code",
      "source": [],
      "metadata": {
        "id": "z0ncpdrq6Wji"
      },
      "execution_count": null,
      "outputs": []
    },
    {
      "cell_type": "markdown",
      "source": [
        "Task-01  Use Gemini in Colab to write a function that filters out all negative numbers from a\n",
        "given list.\n"
      ],
      "metadata": {
        "id": "VDy_45Pb6X_H"
      }
    },
    {
      "cell_type": "code",
      "source": [
        "def filter_negative_numbers(numbers):\n",
        "  \"\"\"\n",
        "  Filters out negative numbers from a list.\n",
        "\n",
        "  Args:\n",
        "    numbers: A list of numbers.\n",
        "\n",
        "  Returns:\n",
        "    A new list containing only the non-negative numbers.\n",
        "  \"\"\"\n",
        "  return [number for number in numbers if number >= 0]\n",
        "\n",
        "# Example usage:\n",
        "my_list = [1, -2, 3, -4, 5, 0, -6]\n",
        "filtered_list = filter_negative_numbers(my_list)\n",
        "print(filtered_list)"
      ],
      "metadata": {
        "colab": {
          "base_uri": "https://localhost:8080/"
        },
        "id": "Q6biks1M7t7f",
        "outputId": "b743d536-9d8e-4217-8b11-583fe7718323"
      },
      "execution_count": 2,
      "outputs": [
        {
          "output_type": "stream",
          "name": "stdout",
          "text": [
            "[1, 3, 5, 0]\n"
          ]
        }
      ]
    },
    {
      "cell_type": "markdown",
      "source": [
        "Certainly! This code defines a Python function called filter_negative_numbers and then demonstrates how to use it.\n",
        "\n",
        "Here's a breakdown:\n",
        "\n",
        "def filter_negative_numbers(numbers):: This line defines a function named filter_negative_numbers that takes one argument, numbers, which is expected to be a list.\n",
        "\"\"\" ... \"\"\": This is a docstring, providing a brief explanation of what the function does, its arguments (Args), and what it returns (Returns).\n",
        "return [number for number in numbers if number >= 0]: This is a list comprehension, which is a concise way to create lists in Python.\n",
        "for number in numbers: This part iterates through each element in the input numbers list, assigning the current element to the variable number.\n",
        "if number >= 0: This is a condition. For each number in the list, this condition checks if the number is greater than or equal to 0 (i.e., not negative).\n",
        "[number ... ]: If the condition if number >= 0 is True, the current number is included in the new list being created.\n",
        "return ...: The function returns this newly created list containing only the non-negative numbers.\n",
        "# Example usage:: This is a comment indicating the following lines are an example of how to use the function.\n",
        "my_list = [1, -2, 3, -4, 5, 0, -6]: This line creates a list named my_list containing both positive, negative, and zero values.\n",
        "filtered_list = filter_negative_numbers(my_list): This line calls the filter_negative_numbers function with my_list as the argument. The function returns a new list with the negative numbers removed, and this new list is stored in the variable filtered_list.\n",
        "print(filtered_list): This line prints the contents of the filtered_list to the console. In this example, the output will be [1, 3, 5, 0]."
      ],
      "metadata": {
        "id": "5mW1figU8fSS"
      }
    },
    {
      "cell_type": "code",
      "source": [],
      "metadata": {
        "id": "YU5QhpjS8gbK"
      },
      "execution_count": 2,
      "outputs": []
    },
    {
      "cell_type": "markdown",
      "source": [
        "task 2; Ask Gemini to generate code that reads a text file and counts the frequency of each\n",
        "word. Then ask it to explain the code.\n"
      ],
      "metadata": {
        "id": "zNPPUVxe8pPD"
      }
    },
    {
      "cell_type": "markdown",
      "source": [],
      "metadata": {
        "id": "nk1dwN3X8npu"
      }
    },
    {
      "cell_type": "code",
      "metadata": {
        "id": "005d6eea"
      },
      "source": [
        "# Create a sample text file\n",
        "with open(\"sample.txt\", \"w\") as f:\n",
        "  f.write(\"This is a sample text file.\\n\")\n",
        "  f.write(\"This file will be used to count the frequency of words.\\n\")\n",
        "  f.write(\"This is a simple example.\")"
      ],
      "execution_count": null,
      "outputs": []
    },
    {
      "cell_type": "markdown",
      "source": [
        "with open(\"sample.txt\", \"w\") as f:: This line opens a file named \"sample.txt\" in write mode (\"w\"). The with statement ensures that the file is automatically closed even if errors occur. The opened file object is assigned to the variable f. If the file \"sample.txt\" doesn't exist, it will be created. If it exists, its content will be overwritten.\n",
        "f.write(\"This is a sample text file.\\n\"): This line writes the string \"This is a sample text file.\" followed by a newline character (\\n) into the sample.txt file.\n",
        "f.write(\"This file will be used to count the frequency of words.\\n\"): This line writes another string, \"This file will be used to count the frequency of words.\", followed by a newline character, into the file.\n",
        "f.write(\"This is a simple example.\"): This line writes the string \"This is a simple example.\" into the file. Since there's no newline character at the end, this line will be on the same line as the previous one in the file content.\n",
        "After this code is executed, a file named sample.txt will be created (or overwritten) in the current directory with the following content:\n",
        "\n",
        "This is a sample text file.\n",
        "This file will be used to count the frequency of words.\n",
        "This is a simple example.\n"
      ],
      "metadata": {
        "id": "FRykrH-q9q-2"
      }
    },
    {
      "cell_type": "markdown",
      "source": [
        "task3;Use Cursor AI to generate a Python class called Book with attributes title, author, and\n",
        "a method summary() that prints the details.\n"
      ],
      "metadata": {
        "id": "4V8ZCCQr9tIl"
      }
    },
    {
      "cell_type": "code",
      "metadata": {
        "id": "d59e77ee"
      },
      "source": [
        "class Book:\n",
        "  \"\"\"Represents a book with a title and author.\"\"\"\n",
        "\n",
        "  def __init__(self, title, author):\n",
        "    \"\"\"Initializes a new Book object.\"\"\"\n",
        "    self.title = title\n",
        "    self.author = author\n",
        "\n",
        "  def summary(self):\n",
        "    \"\"\"Prints the details of the book.\"\"\"\n",
        "    print(f\"Title: {self.title}\")\n",
        "    print(f\"Author: {self.author}\")\n",
        "\n",
        "# Example usage:\n",
        "my_book = Book(\"The Hitchhiker's Guide to the Galaxy\", \"Douglas Adams\")\n",
        "my_book.summary()"
      ],
      "execution_count": null,
      "outputs": []
    },
    {
      "cell_type": "markdown",
      "source": [
        "Here's a breakdown:\n",
        "\n",
        "class Book:: This line starts the definition of a class named Book. Classes are blueprints for creating objects (instances).\n",
        "\"\"\"Represents a book with a title and author.\"\"\": This is a docstring for the class, explaining its purpose.\n",
        "def __init__(self, title, author):: This is the constructor method of the class.\n",
        "__init__ is a special method that is automatically called when you create a new object of the Book class.\n",
        "self refers to the instance of the class being created.\n",
        "title and author are parameters that will receive the title and author of the book when you create a Book object.\n",
        "self.title = title: This line assigns the value passed for the title parameter to an attribute of the object called title.\n",
        "self.author = author: This line assigns the value passed for the author parameter to an attribute of the object called author.\n",
        "def summary(self):: This defines a method called summary within the Book class.\n",
        "self is required as the first parameter in instance methods and refers to the object itself.\n",
        "\"\"\"Prints the details of the book.\"\"\": This is a docstring for the summary method.\n",
        "print(f\"Title: {self.title}\"): This line prints the title of the book using the title attribute of the object (self.title). The f\"\" syntax is an f-string, which allows embedding variable values directly in the string.\n",
        "print(f\"Author: {self.author}\"): This line prints the author of the book using the author attribute of the object (self.author).\n",
        "# Example usage:: This is a comment indicating the following lines are an example of how to use the Book class.\n",
        "my_book = Book(\"The Hitchhiker's Guide to the Galaxy\", \"Douglas Adams\"): This line creates a new object (an instance) of the Book class. It calls the __init__ method, passing \"The Hitchhiker's Guide to the Galaxy\" as the title and \"Douglas Adams\" as the author. The created object is assigned to the variable my_book.\n",
        "my_book.summary(): This line calls the summary() method on the my_book object. This will execute the code inside the summary method, printing the title and author of my_book.\n",
        "In summary, this code defines a blueprint for a Book object and then creates a specific book object and prints its details using the defined methods.\n",
        "\n"
      ],
      "metadata": {
        "id": "eR-x22Jh_jD_"
      }
    },
    {
      "cell_type": "markdown",
      "source": [
        " task 4; Ask Gemini to write a program that checks whether a number is an Armstrong\n",
        "number, and then modify it using Cursor AI to improve performance or structure.\n"
      ],
      "metadata": {
        "id": "IDxCq2KU_mjJ"
      }
    },
    {
      "cell_type": "code",
      "source": [
        "def is_armstrong(number):\n",
        "  \"\"\"Checks if a number is an Armstrong number.\"\"\"\n",
        "  # Convert the number to a string to get the number of digits\n",
        "  num_str = str(number)\n",
        "  num_digits = len(num_str)\n",
        "  sum_of_powers = 0\n",
        "  # Calculate the sum of the powers of the digits\n",
        "  for digit in num_str:\n",
        "    sum_of_powers += int(digit) ** num_digits\n",
        "  # Check if the sum is equal to the original number\n",
        "  return sum_of_powers == number\n",
        "\n",
        "# Get input from the user\n",
        "num = int(input(\"Enter a number: \"))\n",
        "\n",
        "# Check if the number is an Armstrong number and print the result\n",
        "if is_armstrong(num):\n",
        "  print(f\"{num} is an Armstrong number\")\n",
        "else:\n",
        "  print(f\"{num} is not an Armstrong number\")"
      ],
      "metadata": {
        "id": "Q03j7NI8AbUR"
      },
      "execution_count": null,
      "outputs": []
    },
    {
      "cell_type": "markdown",
      "source": [
        "This code defines a function is_armstrong(number) to determine if a given number is an Armstrong number and then uses it to check a number provided by the user.\n",
        "\n",
        "Here's a breakdown:\n",
        "\n",
        "def is_armstrong(number):: This defines a function named is_armstrong that takes one argument, number.\n",
        "\"\"\"Checks if a number is an Armstrong number.\"\"\": This is a docstring explaining the function's purpose.\n",
        "num_str = str(number): Converts the input number into a string so that its individual digits can be easily accessed.\n",
        "num_digits = len(num_str): Calculates the number of digits in the number by getting the length of the string representation.\n",
        "sum_of_powers = 0: Initializes a variable sum_of_powers to store the sum of the digits raised to the power of the number of digits.\n",
        "for digit in num_str:: This loop iterates through each character (digit) in the num_str.\n",
        "sum_of_powers += int(digit) ** num_digits: Inside the loop, each digit (which is currently a character) is converted back to an integer using int(digit), raised to the power of num_digits, and then added to sum_of_powers.\n",
        "return sum_of_powers == number: After the loop finishes, the function returns True if the calculated sum_of_powers is equal to the original number, indicating it's an Armstrong number. Otherwise, it returns False.\n",
        "The lines outside the function handle user interaction:\n",
        "\n",
        "num = int(input(\"Enter a number: \")): Prompts the user to enter a number and converts the input string to an integer, storing it in the num variable.\n",
        "if is_armstrong(num):: Calls the is_armstrong function with the user's input num.\n",
        "print(f\"{num} is an Armstrong number\"): If the function returns True, this line prints a message indicating the number is an Armstrong number.\n",
        "else:: If the function returns False...\n",
        "print(f\"{num} is not an Armstrong number\"): ...this line prints a message indicating the number is not an Armstrong number.\n"
      ],
      "metadata": {
        "id": "Rc-Vi16lA2vc"
      }
    },
    {
      "cell_type": "code",
      "source": [],
      "metadata": {
        "id": "Y7rEECtbA4LZ"
      },
      "execution_count": null,
      "outputs": []
    },
    {
      "cell_type": "markdown",
      "source": [
        "task 5; Use both Gemini and Cursor AI to generate code for sorting a list of dictionaries by a\n",
        "specific key (e.g., age"
      ],
      "metadata": {
        "id": "7KLXNGYHA-ew"
      }
    },
    {
      "cell_type": "code",
      "source": [],
      "metadata": {
        "id": "eAdX4wWnBOcF"
      },
      "execution_count": null,
      "outputs": []
    },
    {
      "cell_type": "code",
      "metadata": {
        "id": "6168d351"
      },
      "source": [
        "def sort_list_of_dicts(list_of_dicts, key_to_sort_by):\n",
        "  \"\"\"\n",
        "  Sorts a list of dictionaries by a specific key.\n",
        "\n",
        "  Args:\n",
        "    list_of_dicts: The list of dictionaries to sort.\n",
        "    key_to_sort_by: The key to sort the dictionaries by.\n",
        "\n",
        "  Returns:\n",
        "    A new list of dictionaries sorted by the specified key.\n",
        "  \"\"\"\n",
        "  return sorted(list_of_dicts, key=lambda x: x[key_to_sort_by])\n",
        "\n",
        "# Example usage:\n",
        "data = [\n",
        "    {\"name\": \"Alice\", \"age\": 30},\n",
        "    {\"name\": \"Bob\", \"age\": 25},\n",
        "    {\"name\": \"Charlie\", \"age\": 35}\n",
        "]\n",
        "\n",
        "sorted_data = sort_list_of_dicts(data, \"age\")\n",
        "print(sorted_data)\n",
        "\n",
        "sorted_data_by_name = sort_list_of_dicts(data, \"name\")\n",
        "print(sorted_data_by_name)"
      ],
      "execution_count": null,
      "outputs": []
    },
    {
      "cell_type": "markdown",
      "source": [
        "Certainly! This code defines a Python function sort_list_of_dicts that sorts a list of dictionaries based on the value associated with a specified key. It then demonstrates how to use this function with example data.\n",
        "\n",
        "Here's a breakdown:\n",
        "\n",
        "def sort_list_of_dicts(list_of_dicts, key_to_sort_by):: This line defines a function named sort_list_of_dicts that takes two arguments:\n",
        "list_of_dicts: The list of dictionaries that you want to sort.\n",
        "key_to_sort_by: A string representing the key within each dictionary that you want to use for sorting.\n",
        "\"\"\" ... \"\"\": This is a docstring explaining the function's purpose, arguments (Args), and what it returns (Returns).\n",
        "return sorted(list_of_dicts, key=lambda x: x[key_to_sort_by]): This is the core of the sorting logic.\n",
        "sorted(): This is a built-in Python function that returns a new sorted list from the items in an iterable. It doesn't modify the original list.\n",
        "list_of_dicts: This is the list of dictionaries that sorted() will operate on.\n",
        "key=lambda x: x[key_to_sort_by]: This is the crucial part that tells sorted() how to determine the sorting order.\n",
        "key is an argument to sorted() that specifies a function to be called on each list element prior to making comparisons.\n",
        "lambda x: x[key_to_sort_by] is a small anonymous function (a lambda function).\n",
        "x represents each individual dictionary in the list_of_dicts as sorted() iterates through them.\n",
        "x[key_to_sort_by] accesses the value associated with the key_to_sort_by within the current dictionary x.\n",
        "So, the key argument tells sorted() to use the value of the specified key within each dictionary as the basis for sorting.\n",
        "# Example usage:: This is a comment indicating the following lines are examples of how to use the function.\n",
        "data = [...]: This line creates a sample list of dictionaries named data, where each dictionary represents a person with a \"name\" and \"age\".\n",
        "sorted_data = sort_list_of_dicts(data, \"age\"): This line calls the sort_list_of_dicts function with the data list and the key \"age\". The function sorts the list based on the \"age\" values and the resulting sorted list is stored in sorted_data.\n",
        "print(sorted_data): This line prints the sorted_data list. The output will show the dictionaries sorted by age.\n",
        "sorted_data_by_name = sort_list_of_dicts(data, \"name\"): This line calls the sort_list_of_dicts function again, but this time with the key \"name\". The function sorts the original data list based on the \"name\" values and the result is stored in sorted_data_by_name.\n",
        "print(sorted_data_by_name): This line prints the sorted_data_by_name list. The output will show the dictionaries sorted alphabetically by name.\n",
        "In essence, this code provides a reusable function to sort lists of dictionaries by any specified key, making it easy to organize data based on different criteria."
      ],
      "metadata": {
        "id": "8NcjNXL5BzpK"
      }
    }
  ]
}